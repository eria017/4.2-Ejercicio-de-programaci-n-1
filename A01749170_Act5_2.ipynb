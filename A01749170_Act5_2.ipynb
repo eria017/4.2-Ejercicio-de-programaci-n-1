{
  "nbformat": 4,
  "nbformat_minor": 0,
  "metadata": {
    "colab": {
      "provenance": []
    },
    "kernelspec": {
      "name": "python3",
      "display_name": "Python 3"
    },
    "language_info": {
      "name": "python"
    }
  },
  "cells": [
    {
      "cell_type": "markdown",
      "source": [
        "# 1. Compute sales"
      ],
      "metadata": {
        "id": "U3NcfiSN5w-p"
      }
    },
    {
      "cell_type": "code",
      "source": [
        "!pip install flake8 pylint\n",
        "!pip install mypy"
      ],
      "metadata": {
        "colab": {
          "base_uri": "https://localhost:8080/"
        },
        "id": "SqAjY2zFBCnv",
        "outputId": "cec74847-8853-4a1b-b243-1ccc0400a355"
      },
      "execution_count": null,
      "outputs": [
        {
          "output_type": "stream",
          "name": "stdout",
          "text": [
            "Collecting flake8\n",
            "  Downloading flake8-7.1.1-py2.py3-none-any.whl.metadata (3.8 kB)\n",
            "Collecting pylint\n",
            "  Downloading pylint-3.3.4-py3-none-any.whl.metadata (12 kB)\n",
            "Collecting mccabe<0.8.0,>=0.7.0 (from flake8)\n",
            "  Downloading mccabe-0.7.0-py2.py3-none-any.whl.metadata (5.0 kB)\n",
            "Collecting pycodestyle<2.13.0,>=2.12.0 (from flake8)\n",
            "  Downloading pycodestyle-2.12.1-py2.py3-none-any.whl.metadata (4.5 kB)\n",
            "Collecting pyflakes<3.3.0,>=3.2.0 (from flake8)\n",
            "  Downloading pyflakes-3.2.0-py2.py3-none-any.whl.metadata (3.5 kB)\n",
            "Collecting dill>=0.3.6 (from pylint)\n",
            "  Downloading dill-0.3.9-py3-none-any.whl.metadata (10 kB)\n",
            "Requirement already satisfied: platformdirs>=2.2.0 in /usr/local/lib/python3.11/dist-packages (from pylint) (4.3.6)\n",
            "Collecting astroid<=3.4.0-dev0,>=3.3.8 (from pylint)\n",
            "  Downloading astroid-3.3.8-py3-none-any.whl.metadata (4.5 kB)\n",
            "Collecting isort!=5.13.0,<7,>=4.2.5 (from pylint)\n",
            "  Downloading isort-6.0.0-py3-none-any.whl.metadata (11 kB)\n",
            "Collecting tomlkit>=0.10.1 (from pylint)\n",
            "  Downloading tomlkit-0.13.2-py3-none-any.whl.metadata (2.7 kB)\n",
            "Downloading flake8-7.1.1-py2.py3-none-any.whl (57 kB)\n",
            "\u001b[2K   \u001b[90m━━━━━━━━━━━━━━━━━━━━━━━━━━━━━━━━━━━━━━━━\u001b[0m \u001b[32m57.7/57.7 kB\u001b[0m \u001b[31m2.1 MB/s\u001b[0m eta \u001b[36m0:00:00\u001b[0m\n",
            "\u001b[?25hDownloading pylint-3.3.4-py3-none-any.whl (522 kB)\n",
            "\u001b[2K   \u001b[90m━━━━━━━━━━━━━━━━━━━━━━━━━━━━━━━━━━━━━━━━\u001b[0m \u001b[32m522.3/522.3 kB\u001b[0m \u001b[31m8.4 MB/s\u001b[0m eta \u001b[36m0:00:00\u001b[0m\n",
            "\u001b[?25hDownloading astroid-3.3.8-py3-none-any.whl (275 kB)\n",
            "\u001b[2K   \u001b[90m━━━━━━━━━━━━━━━━━━━━━━━━━━━━━━━━━━━━━━━━\u001b[0m \u001b[32m275.2/275.2 kB\u001b[0m \u001b[31m18.1 MB/s\u001b[0m eta \u001b[36m0:00:00\u001b[0m\n",
            "\u001b[?25hDownloading dill-0.3.9-py3-none-any.whl (119 kB)\n",
            "\u001b[2K   \u001b[90m━━━━━━━━━━━━━━━━━━━━━━━━━━━━━━━━━━━━━━━━\u001b[0m \u001b[32m119.4/119.4 kB\u001b[0m \u001b[31m10.3 MB/s\u001b[0m eta \u001b[36m0:00:00\u001b[0m\n",
            "\u001b[?25hDownloading isort-6.0.0-py3-none-any.whl (94 kB)\n",
            "\u001b[2K   \u001b[90m━━━━━━━━━━━━━━━━━━━━━━━━━━━━━━━━━━━━━━━━\u001b[0m \u001b[32m94.1/94.1 kB\u001b[0m \u001b[31m4.4 MB/s\u001b[0m eta \u001b[36m0:00:00\u001b[0m\n",
            "\u001b[?25hDownloading mccabe-0.7.0-py2.py3-none-any.whl (7.3 kB)\n",
            "Downloading pycodestyle-2.12.1-py2.py3-none-any.whl (31 kB)\n",
            "Downloading pyflakes-3.2.0-py2.py3-none-any.whl (62 kB)\n",
            "\u001b[2K   \u001b[90m━━━━━━━━━━━━━━━━━━━━━━━━━━━━━━━━━━━━━━━━\u001b[0m \u001b[32m62.7/62.7 kB\u001b[0m \u001b[31m5.8 MB/s\u001b[0m eta \u001b[36m0:00:00\u001b[0m\n",
            "\u001b[?25hDownloading tomlkit-0.13.2-py3-none-any.whl (37 kB)\n",
            "Installing collected packages: tomlkit, pyflakes, pycodestyle, mccabe, isort, dill, astroid, pylint, flake8\n",
            "Successfully installed astroid-3.3.8 dill-0.3.9 flake8-7.1.1 isort-6.0.0 mccabe-0.7.0 pycodestyle-2.12.1 pyflakes-3.2.0 pylint-3.3.4 tomlkit-0.13.2\n",
            "Collecting mypy\n",
            "  Downloading mypy-1.15.0-cp311-cp311-manylinux_2_17_x86_64.manylinux2014_x86_64.manylinux_2_28_x86_64.whl.metadata (2.1 kB)\n",
            "Requirement already satisfied: typing_extensions>=4.6.0 in /usr/local/lib/python3.11/dist-packages (from mypy) (4.12.2)\n",
            "Collecting mypy_extensions>=1.0.0 (from mypy)\n",
            "  Downloading mypy_extensions-1.0.0-py3-none-any.whl.metadata (1.1 kB)\n",
            "Downloading mypy-1.15.0-cp311-cp311-manylinux_2_17_x86_64.manylinux2014_x86_64.manylinux_2_28_x86_64.whl (12.3 MB)\n",
            "\u001b[2K   \u001b[90m━━━━━━━━━━━━━━━━━━━━━━━━━━━━━━━━━━━━━━━━\u001b[0m \u001b[32m12.3/12.3 MB\u001b[0m \u001b[31m92.6 MB/s\u001b[0m eta \u001b[36m0:00:00\u001b[0m\n",
            "\u001b[?25hDownloading mypy_extensions-1.0.0-py3-none-any.whl (4.7 kB)\n",
            "Installing collected packages: mypy_extensions, mypy\n",
            "Successfully installed mypy-1.15.0 mypy_extensions-1.0.0\n"
          ]
        }
      ]
    },
    {
      "cell_type": "code",
      "source": [
        "from google.colab import drive\n",
        "drive.mount('/content/drive')"
      ],
      "metadata": {
        "colab": {
          "base_uri": "https://localhost:8080/"
        },
        "id": "yW8nE4yXBLA5",
        "outputId": "e859d99a-70f1-442a-f978-64f587bac93a"
      },
      "execution_count": null,
      "outputs": [
        {
          "output_type": "stream",
          "name": "stdout",
          "text": [
            "Drive already mounted at /content/drive; to attempt to forcibly remount, call drive.mount(\"/content/drive\", force_remount=True).\n"
          ]
        }
      ]
    },
    {
      "cell_type": "code",
      "execution_count": null,
      "metadata": {
        "colab": {
          "base_uri": "https://localhost:8080/"
        },
        "id": "UPeYDjUmA-_f",
        "outputId": "45746768-9fe6-48cf-9d27-35621b96a507"
      },
      "outputs": [
        {
          "output_type": "stream",
          "name": "stdout",
          "text": [
            "Procesando carpeta: TC1\n",
            "El costo total de las ventas en TC1 es: $2481.86\n",
            "Resultados guardados en: /content/drive/MyDrive/Colab Notebooks/Inteligencia Artificial Aplicada /Pruebas de Software y Aseguramiento de la Calidad/Actividad 5.2/SalesResults_TC1.txt\n",
            "Procesando carpeta: TC2\n",
            "El costo total de las ventas en TC2 es: $166568.23\n",
            "Resultados guardados en: /content/drive/MyDrive/Colab Notebooks/Inteligencia Artificial Aplicada /Pruebas de Software y Aseguramiento de la Calidad/Actividad 5.2/SalesResults_TC2.txt\n",
            "Procesando carpeta: TC3\n",
            "Advertencia: Producto 'Elotes' no encontrado en el catálogo.\n",
            "Advertencia: Producto 'Frijoles' no encontrado en el catálogo.\n",
            "El costo total de las ventas en TC3 es: $165235.37\n",
            "Resultados guardados en: /content/drive/MyDrive/Colab Notebooks/Inteligencia Artificial Aplicada /Pruebas de Software y Aseguramiento de la Calidad/Actividad 5.2/SalesResults_TC3.txt\n"
          ]
        }
      ],
      "source": [
        "\n",
        "import json\n",
        "import os\n",
        "\n",
        "\n",
        "def load_json_file(file_path):\n",
        "    try:\n",
        "        with open(file_path, \"r\", encoding=\"utf-8\") as file:\n",
        "            return json.load(file)\n",
        "    except FileNotFoundError:\n",
        "        print(f\"Error: El archivo {file_path} no fue encontrado.\")\n",
        "        return None\n",
        "    except json.JSONDecodeError:\n",
        "        print(f\"Error: El archivo {file_path} no tiene un formato JSON válido.\")\n",
        "        return None\n",
        "\n",
        "\n",
        "def compute_total_cost(price_catalogue, sales_record):\n",
        "    total_cost = 0.0\n",
        "    for sale in sales_record:\n",
        "        product_name = sale.get(\"Product\")\n",
        "        quantity = sale.get(\"Quantity\")\n",
        "        if not product_name or not quantity:\n",
        "            print(f\"Advertencia: Venta inválida encontrada: {sale}\")\n",
        "            continue\n",
        "        product_price = next(\n",
        "            (item[\"price\"] for item in price_catalogue if item[\"title\"] == product_name),\n",
        "            None,\n",
        "        )\n",
        "        if product_price is None:\n",
        "            print(f\"Advertencia: Producto '{product_name}' no encontrado en el catálogo.\")\n",
        "            continue\n",
        "        total_cost += float(product_price) * int(quantity)\n",
        "    return total_cost\n",
        "\n",
        "\n",
        "def process_folder(folder_path, price_catalogue):\n",
        "    sales_file_path = os.path.join(folder_path, f\"{os.path.basename(folder_path)}.Sales.json\")\n",
        "\n",
        "    if not os.path.exists(sales_file_path):\n",
        "        print(f\"Error: No se encontró el archivo {sales_file_path}.\")\n",
        "        return None\n",
        "\n",
        "    sales_record = load_json_file(sales_file_path)\n",
        "    if sales_record is None:\n",
        "        return None\n",
        "\n",
        "    return compute_total_cost(price_catalogue, sales_record)\n",
        "\n",
        "\n",
        "def main():\n",
        "    # The base path where the TC1, TC2, and TC3 folders are located.\n",
        "    base_folder = (\n",
        "        \"/content/drive/MyDrive/Colab Notebooks/Inteligencia Artificial Aplicada \"\n",
        "        \"/Pruebas de Software y Aseguramiento de la Calidad/Actividad 5.2\"\n",
        "    )\n",
        "\n",
        "    # Price catalog path (in TC1)\n",
        "    tc1_folder = os.path.join(base_folder, \"TC1\")\n",
        "    price_catalogue_path = os.path.join(tc1_folder, \"TC1.ProductList.json\")\n",
        "\n",
        "    # Check if the price catalog exists.\n",
        "    if not os.path.exists(price_catalogue_path):\n",
        "        print(f\"Error: No se encontró el archivo {price_catalogue_path}.\")\n",
        "        return\n",
        "\n",
        "    # Load the price catalog.\n",
        "    price_catalogue = load_json_file(price_catalogue_path)\n",
        "    if price_catalogue is None:\n",
        "        return\n",
        "\n",
        "    # Process each folder (TC1, TC2, TC3).\n",
        "    folders = [\"TC1\", \"TC2\", \"TC3\"]\n",
        "    for folder_name in folders:\n",
        "        folder_path = os.path.join(base_folder, folder_name)\n",
        "        print(f\"Procesando carpeta: {folder_name}\")\n",
        "\n",
        "        # Calculate the total sales cost in this folder.\n",
        "        total_cost = process_folder(folder_path, price_catalogue)\n",
        "        if total_cost is not None:\n",
        "            print(f\"El costo total de las ventas en {folder_name} es: ${total_cost:.2f}\")\n",
        "\n",
        "            # Save results to a file.\n",
        "            output_file_path = os.path.join(base_folder, f\"SalesResults_{folder_name}.txt\")\n",
        "            with open(output_file_path, \"w\", encoding=\"utf-8\") as result_file:\n",
        "                result_file.write(\n",
        "                    f\"El costo total de las ventas en {folder_name} es: ${total_cost:.2f}\\n\"\n",
        "                )\n",
        "            print(f\"Resultados guardados en: {output_file_path}\")\n",
        "        else:\n",
        "            print(f\"No se pudo calcular el costo total para {folder_name}.\")\n",
        "\n",
        "\n",
        "if __name__ == \"__main__\":\n",
        "    main()\n",
        "\n"
      ]
    },
    {
      "cell_type": "code",
      "source": [
        "!flake8 computeSales.py\n",
        "!pylint computeSales.py\n",
        "!python computeSales.py"
      ],
      "metadata": {
        "id": "-R_GX-09GKP3",
        "colab": {
          "base_uri": "https://localhost:8080/"
        },
        "outputId": "534b5d35-28df-4c2e-b225-b151d4ed8d0c"
      },
      "execution_count": null,
      "outputs": [
        {
          "output_type": "stream",
          "name": "stdout",
          "text": [
            "\u001b[1mcomputeSales.py\u001b[m\u001b[36m:\u001b[m87\u001b[36m:\u001b[m22\u001b[36m:\u001b[m \u001b[1m\u001b[31mE999\u001b[m SyntaxError: unterminated string literal (detected at line 87)\n",
            "************* Module computeSales\n",
            "computeSales.py:87:21: E0001: Parsing failed: 'unterminated string literal (detected at line 87) (computeSales, line 87)' (syntax-error)\n",
            "  File \"/content/computeSales.py\", line 87\n",
            "    f\"El costo total de las ventas en {folder_name} es: ${total_cost:.2f}\n",
            "    ^\n",
            "SyntaxError: unterminated string literal (detected at line 87)\n"
          ]
        }
      ]
    }
  ]
}